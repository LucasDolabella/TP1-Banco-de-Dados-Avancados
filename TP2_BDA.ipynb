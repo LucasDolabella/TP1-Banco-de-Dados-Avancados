{
 "cells": [
  {
   "cell_type": "markdown",
   "id": "378f5b0d",
   "metadata": {},
   "source": [
    "## Parte 1 - Modelagem Conceitual "
   ]
  }
 ],
 "metadata": {
  "kernelspec": {
   "display_name": "base",
   "language": "python",
   "name": "python3"
  },
  "language_info": {
   "name": "python",
   "version": "3.12.3"
  }
 },
 "nbformat": 4,
 "nbformat_minor": 5
}
