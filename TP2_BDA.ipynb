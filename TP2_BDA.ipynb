{
 "cells": [
  {
   "cell_type": "markdown",
   "id": "378f5b0d",
   "metadata": {},
   "source": [
    "## Parte 1 - Modelagem Conceitual "
   ]
  },
  {
   "cell_type": "code",
   "execution_count": null,
   "id": "43572ce3",
   "metadata": {},
   "outputs": [],
   "source": []
  },
  {
   "cell_type": "markdown",
   "id": "3253fae4",
   "metadata": {},
   "source": [
    "### Decisões de modelagem\n",
    "Relacionameto  **CLIENTE - PEDIDO: 1:N**\\\n",
    "Este relacionamento é 1:N, pois um cliente pode realizar diversos pedidos, entretanto, um pedido só pode estar vinculado a um único cliente.\\\n",
    "\\\n",
    "Relacionamento **PEDIDO - PRODUTO: N:M**\\\n",
    "Este relacionamento é N:M, pois um pedido pode conter diversos produtos e um tipo de produto pode estar em diversos pedidos diferentes.\\\n",
    "\\\n",
    "Relacionamento **PRODUTO - CARGA: N:M**\\\n",
    "Este relacionamento é N:M, pois um mesmo tipo de produto pode estar em diversas cargas diferentes e uma mesma carga pode conter vários tipos de produtos diferentes.\\\n",
    "\\\n",
    "Relacionamento **CLIENTE - ENDEREÇO: N:1**\\\n",
    "Este relacionamento é N:1, pois um cliente , mas em um mesmo endereço pode residir diversos clientes.\\\n",
    "\\\n",
    "Relacionamento **CARGA - TRANSPORTE: N:1**\\\n",
    "Este relacionamento é N:1, pois uma carga é transportada por apenas um veículo, mas um veículo pode transportar várias cargas.\\\n",
    "\\\n",
    "Relacionamento **\n"
   ]
  },
  {
   "cell_type": "markdown",
   "id": "90976fed",
   "metadata": {},
   "source": []
  }
 ],
 "metadata": {
  "kernelspec": {
   "display_name": ".venv",
   "language": "python",
   "name": "python3"
  },
  "language_info": {
   "codemirror_mode": {
    "name": "ipython",
    "version": 3
   },
   "file_extension": ".py",
   "mimetype": "text/x-python",
   "name": "python",
   "nbconvert_exporter": "python",
   "pygments_lexer": "ipython3",
   "version": "3.13.2"
  }
 },
 "nbformat": 4,
 "nbformat_minor": 5
}
