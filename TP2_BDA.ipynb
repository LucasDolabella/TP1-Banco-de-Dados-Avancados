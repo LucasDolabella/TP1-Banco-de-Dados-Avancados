{
 "cells": [
  {
   "cell_type": "markdown",
   "id": "378f5b0d",
   "metadata": {},
   "source": [
    "## Parte 1: Modelagem Conceitual "
   ]
  },
  {
   "cell_type": "markdown",
   "id": "789ae643",
   "metadata": {},
   "source": [
    "### 1.1. Diagrama ER"
   ]
  },
  {
   "cell_type": "code",
   "execution_count": 1,
   "id": "43572ce3",
   "metadata": {},
   "outputs": [
    {
     "data": {
      "text/html": [
       "<img src=\"https://i.postimg.cc/nz0mBWkS/der-tp1-BDA-drawio.png\"/>"
      ],
      "text/plain": [
       "<IPython.core.display.Image object>"
      ]
     },
     "metadata": {},
     "output_type": "display_data"
    }
   ],
   "source": [
    "from IPython.display import Image, display\n",
    "\n",
    "# URL da imagem\n",
    "url = \"https://i.postimg.cc/nz0mBWkS/der-tp1-BDA-drawio.png\"\n",
    "\n",
    "# Exibir a imagem\n",
    "display(Image(url=url))"
   ]
  },
  {
   "cell_type": "markdown",
   "id": "3253fae4",
   "metadata": {},
   "source": [
    "### 1.2. Decisões de modelagem\n",
    "- Relacionameto  **CLIENTE - PEDIDO: 1:N**\\\n",
    "Este relacionamento é 1:N, pois um cliente pode realizar diversos pedidos, entretanto, um pedido só pode estar vinculado a um único cliente.\\\n",
    "Além disso, um cliente pode nao realizar nenhum pedido, mas todo pedido deve estar associado a um cliente.\n",
    "\n",
    "- Relacionamento **PEDIDO - PRODUTO: N:M**\\\n",
    "Este relacionamento é N:M, pois um pedido pode conter diversos produtos e um tipo de produto pode estar em diversos pedidos diferentes.\\\n",
    "Além disso, todo pedido deve conter produtos, mas nem todo produto precisa estar em um pedido.\n",
    "\n",
    "- Relacionamento **PRODUTO - CARGA: N:M**\\\n",
    "Foi-se considerado como carga o conjunto de itens comprados. Exemplo: comprou-se os itens a, b e c, logo a carga será o pacote com os itens do pedido.  \n",
    "Este relacionamento é N:M, pois um mesmo tipo de produto pode estar em diversas cargas diferentes, e uma mesma carga pode conter vários tipos de produtos diferentes.\n",
    "Além disso, toda carga deve conter produtos, mas nem todo produto precisa estar em uma carga.\n",
    "\n",
    "- Relacionamento **CLIENTE - ENDEREÇO: N:1**\\\n",
    "Este relacionamento é N:1, pois um cliente , mas em um mesmo endereço pode residir diversos clientes.\n",
    "Além disso, todo cliente deve residir em um endereço, mas nem todo endereço necessita ter um cliente.\n",
    "\n",
    "- Relacionamento **CARGA - VEÍCULO: N:1**\\\n",
    "Este relacionamento é N:1, pois uma carga é transportada por apenas um veículo, mas um veículo pode transportar várias cargas.\n",
    "Além disso, toda carga deve ser transportada por um veículo, mas nem todo veículo precisa transportar uma carga.\n",
    "\n",
    "- Relacionamento **VEÍCULO - MOTORISTA: 1:1**:\\\n",
    "Este relacionamento é 1:1, pois um veículo está associado a apenas um motorista e um motorista está associado a apenas o seu único veículo.\n",
    "Além disso, um veículo pode não estar associado a nenhum motorista, e podem haver motoristas não associados a nenhum veículo.\n",
    "\n",
    "- Relacionamento **MOTORISTA - ROTAS: 1:N**:\\\n",
    "Este relacionamento é 1:N, pois um mesmo motorista pode realizar múltiplas rotas diferentes, mas uma rota está associada a um único motorista.\n",
    "Além disso, este é um relacionamento fraco, uma vez que se motorista for removido do banco de dados, a rota não irá existir pois não haverá ninguém para realizá-la.\n",
    "\n",
    "- Relacionamto **ENDEREÇO - CARGA: 1:N (Tem origem):**\\\n",
    "Este relacionamento é 1:N, pois um mesmo endereço pode ser origem de várias cargas diferentes, mas uma carga específica só possui um endereço de origem.\n",
    "Além disso, toda carga necessariamente tem origem em um endereço, mas nem todo endereço precisa ser a origem de uma carga.\n",
    "\n",
    "- Relacionamto **ENDEREÇO - CARGA: 1:N (Tem destino):**\\\n",
    "Este relacionamento é 1:N, pois um mesmo endereço pode ser destino de várias cargas diferentes, mas uma carga específica só possui um endereço de destino.\n",
    "Além disso, toda carga necessariamente tem um endereço como destino, mas nem todo endereço precisa ser o destino de uma carga.\n",
    "\n"
   ]
  },
  {
   "cell_type": "markdown",
   "id": "95a17cd7",
   "metadata": {},
   "source": [
    "## Parte 2: Esquema Relacional"
   ]
  },
  {
   "cell_type": "code",
   "execution_count": 2,
   "id": "0bcbe24f",
   "metadata": {},
   "outputs": [
    {
     "data": {
      "text/html": [
       "<img src=\"https://i.postimg.cc/9MnMWH12/relacional-tp1-BDA-drawio.png\"/>"
      ],
      "text/plain": [
       "<IPython.core.display.Image object>"
      ]
     },
     "metadata": {},
     "output_type": "display_data"
    }
   ],
   "source": [
    "from IPython.display import Image, display\n",
    "\n",
    "# URL da imagem\n",
    "url = \"https://i.postimg.cc/9MnMWH12/relacional-tp1-BDA-drawio.png\"\n",
    "\n",
    "# Exibir a imagem\n",
    "display(Image(url=url))"
   ]
  },
  {
   "cell_type": "markdown",
   "id": "90976fed",
   "metadata": {},
   "source": [
    "## Parte 3: Álgebra Relacional"
   ]
  },
  {
   "cell_type": "markdown",
   "id": "e3504acd",
   "metadata": {},
   "source": [
    "## Parte 4: SQL"
   ]
  },
  {
   "cell_type": "markdown",
   "id": "bdc8f48d",
   "metadata": {},
   "source": [
    "### 4.1. Criação do Banco"
   ]
  },
  {
   "cell_type": "code",
   "execution_count": 9,
   "id": "1619e45c",
   "metadata": {},
   "outputs": [],
   "source": [
    "import sqlite3\n",
    "\n",
    "conn = sqlite3.connect(\"meubanco.db\")\n",
    "cursor = conn.cursor()\n",
    "\n",
    "# cria a tabela\n",
    "cursor.executescript(\"\"\"\n",
    "DROP TABLE IF EXISTS Endereco;\n",
    "DROP TABLE IF EXISTS Cliente;\n",
    "DROP TABLE IF EXISTS Produto;\n",
    "DROP TABLE IF EXISTS Pedido;\n",
    "DROP TABLE IF EXISTS Veiculo;\n",
    "DROP TABLE IF EXISTS Motorista;\n",
    "DROP TABLE IF EXISTS Rotas;\n",
    "DROP TABLE IF EXISTS Carga;\n",
    "DROP TABLE IF EXISTS Pedido_Produto;\n",
    "DROP TABLE IF EXISTS Carga_Produto;\n",
    "               \n",
    "CREATE TABLE Endereco (\n",
    "    id_endereco   INTEGER PRIMARY KEY,\n",
    "    nome_rua      TEXT,\n",
    "    num_rua       INTEGER,\n",
    "    complemento   TEXT,\n",
    "    cep           INTEGER,\n",
    "    bairro        TEXT\n",
    ");\n",
    "\n",
    "CREATE TABLE Cliente (\n",
    "    cpf_cliente   INTEGER PRIMARY KEY,\n",
    "    nome_cliente  TEXT,\n",
    "    id_endereco   INTEGER,\n",
    "    FOREIGN KEY (id_endereco) REFERENCES Endereco(id_endereco)\n",
    ");\n",
    "               \n",
    "CREATE TABLE Produto (\n",
    "    id_produto    INTEGER PRIMARY KEY,\n",
    "    nome_produto  TEXT,\n",
    "    preco_produto    INTEGER\n",
    ");\n",
    "               \n",
    "CREATE TABLE Pedido (\n",
    "    id_pedido     INTEGER PRIMARY KEY,\n",
    "    data_pedido   TEXT,\n",
    "    total_pedido  INTEGER,\n",
    "    entrega_prevista TEXT,\n",
    "    cpf_cliente INTEGER,\n",
    "    FOREIGN KEY (cpf_cliente) REFERENCES Cliente(cpf_cliente)\n",
    ");\n",
    "               \n",
    "CREATE TABLE Veiculo (\n",
    "    id_veiculo    INTEGER PRIMARY KEY,\n",
    "    nome_veiculo  TEXT,\n",
    "    tipo_veiculo  TEXT\n",
    ");\n",
    "\n",
    "CREATE TABLE Motorista (\n",
    "    cpf_motorista INTEGER PRIMARY KEY,\n",
    "    nome_motorista TEXT,\n",
    "    id_veiculo    INTEGER,\n",
    "    FOREIGN KEY (id_veiculo) REFERENCES Veiculo(id_veiculo)\n",
    ");\n",
    "\n",
    "CREATE TABLE Rotas (\n",
    "    cpf_motorista TEXT,\n",
    "    id_rota INTEGER,\n",
    "    nome_rota TEXT,\n",
    "    PRIMARY KEY (cpf_motorista, id_rota),   -- chave composta\n",
    "    FOREIGN KEY (cpf_motorista) \n",
    "        REFERENCES Motorista(cpf_motorista) \n",
    "        ON DELETE CASCADE\n",
    ");\n",
    "               \n",
    "CREATE TABLE Carga (\n",
    "    id_carga            INTEGER PRIMARY KEY,\n",
    "    id_endereco_origem  INTEGER,\n",
    "    id_endereco_destino INTEGER,\n",
    "    id_veiculo          INTEGER,\n",
    "    status_carga        TEXT,\n",
    "    data_entrega        TEXT,\n",
    "    FOREIGN KEY (id_endereco_origem)  REFERENCES Endereco(id_endereco),\n",
    "    FOREIGN KEY (id_endereco_destino) REFERENCES Endereco(id_endereco),\n",
    "    FOREIGN KEY (id_veiculo)          REFERENCES Veiculo(id_veiculo)\n",
    ");\n",
    "               \n",
    "CREATE TABLE Pedido_Produto (\n",
    "    id_pedido     INTEGER,\n",
    "    id_produto    INTEGER,\n",
    "    qtd_pedida    INTEGER,\n",
    "    total_produto INTEGER,\n",
    "    PRIMARY KEY (id_pedido, id_produto),\n",
    "    FOREIGN KEY (id_pedido)  REFERENCES Pedido(id_pedido),\n",
    "    FOREIGN KEY (id_produto) REFERENCES Produto(id_produto)\n",
    ");               \n",
    "\n",
    "CREATE TABLE Carga_Produto (\n",
    "    id_carga   INTEGER,\n",
    "    id_produto INTEGER,\n",
    "    tam_carga  INTEGER,\n",
    "    PRIMARY KEY (id_carga, id_produto),\n",
    "    FOREIGN KEY (id_carga)   REFERENCES Carga(id_carga),\n",
    "    FOREIGN KEY (id_produto) REFERENCES Produto(id_produto)\n",
    ");\n",
    "\"\"\")\n",
    "\n",
    "conn.commit()\n"
   ]
  },
  {
   "cell_type": "markdown",
   "id": "9d72d98e",
   "metadata": {},
   "source": [
    "### 4.2. Inserção de Dados"
   ]
  }
 ],
 "metadata": {
  "kernelspec": {
   "display_name": "base",
   "language": "python",
   "name": "python3"
  },
  "language_info": {
   "codemirror_mode": {
    "name": "ipython",
    "version": 3
   },
   "file_extension": ".py",
   "mimetype": "text/x-python",
   "name": "python",
   "nbconvert_exporter": "python",
   "pygments_lexer": "ipython3",
   "version": "3.12.3"
  }
 },
 "nbformat": 4,
 "nbformat_minor": 5
}
