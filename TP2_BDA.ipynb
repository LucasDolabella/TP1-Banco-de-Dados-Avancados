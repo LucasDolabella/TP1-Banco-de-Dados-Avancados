{
 "cells": [
  {
   "cell_type": "markdown",
   "id": "378f5b0d",
   "metadata": {},
   "source": [
    "## Parte 1: Modelagem Conceitual "
   ]
  },
  {
   "cell_type": "markdown",
   "id": "789ae643",
   "metadata": {},
   "source": [
    "### 1.1. Diagrama ER"
   ]
  },
  {
   "cell_type": "code",
   "execution_count": null,
   "id": "43572ce3",
   "metadata": {},
   "outputs": [],
   "source": [
    "from IPython.display import Image, display\n",
    "\n",
    "# URL da imagem\n",
    "url = \"https://i.postimg.cc/nz0mBWkS/der-tp1-BDA-drawio.png\"\n",
    "\n",
    "# Exibir a imagem\n",
    "display(Image(url=url))"
   ]
  },
  {
   "cell_type": "markdown",
   "id": "3253fae4",
   "metadata": {},
   "source": [
    "### 1.2. Decisões de modelagem\n",
    "- Relacionameto  **CLIENTE - PEDIDO: 1:N**\\\n",
    "Este relacionamento é 1:N, pois um cliente pode realizar diversos pedidos, entretanto, um pedido só pode estar vinculado a um único cliente.\\\n",
    "Além disso, um cliente pode nao realizar nenhum pedido, mas todo pedido deve estar associado a um cliente.\n",
    "\n",
    "- Relacionamento **PEDIDO - PRODUTO: N:M**\\\n",
    "Este relacionamento é N:M, pois um pedido pode conter diversos produtos e um tipo de produto pode estar em diversos pedidos diferentes.\\\n",
    "Além disso, todo pedido deve conter produtos, mas nem todo produto precisa estar em um pedido.\n",
    "\n",
    "- Relacionamento **PRODUTO - CARGA: N:M**\\\n",
    "Foi-se considerado como carga o conjunto de itens comprados. Exemplo: comprou-se os itens a, b e c, logo a carga será o pacote com os itens do pedido.  \n",
    "Este relacionamento é N:M, pois um mesmo tipo de produto pode estar em diversas cargas diferentes, e uma mesma carga pode conter vários tipos de produtos diferentes.\n",
    "Além disso, toda carga deve conter produtos, mas nem todo produto precisa estar em uma carga.\n",
    "\n",
    "- Relacionamento **CLIENTE - ENDEREÇO: N:1**\\\n",
    "Este relacionamento é N:1, pois um cliente , mas em um mesmo endereço pode residir diversos clientes.\n",
    "Além disso, todo cliente deve residir em um endereço, mas nem todo endereço necessita ter um cliente.\n",
    "\n",
    "- Relacionamento **CARGA - VEÍCULO: N:1**\\\n",
    "Este relacionamento é N:1, pois uma carga é transportada por apenas um veículo, mas um veículo pode transportar várias cargas.\n",
    "Além disso, toda carga deve ser transportada por um veículo, mas nem todo veículo precisa transportar uma carga.\n",
    "\n",
    "- Relacionamento **VEÍCULO - MOTORISTA: 1:1**:\\\n",
    "Este relacionamento é 1:1, pois um veículo está associado a apenas um motorista e um motorista está associado a apenas o seu único veículo.\n",
    "Além disso, um veículo pode não estar associado a nenhum motorista, e podem haver motoristas não associados a nenhum veículo.\n",
    "\n",
    "- Relacionamento **MOTORISTA - ROTAS: 1:N**:\\\n",
    "Este relacionamento é 1:N, pois um mesmo motorista pode realizar múltiplas rotas diferentes, mas uma rota está associada a um único motorista.\n",
    "Além disso, este é um relacionamento fraco, uma vez que se motorista for removido do banco de dados, a rota não irá existir pois não haverá ninguém para realizá-la.\n",
    "\n",
    "- Relacionamto **ENDEREÇO - CARGA: 1:N (Tem origem):**\\\n",
    "Este relacionamento é 1:N, pois um mesmo endereço pode ser origem de várias cargas diferentes, mas uma carga específica só possui um endereço de origem.\n",
    "Além disso, toda carga necessariamente tem origem em um endereço, mas nem todo endereço precisa ser a origem de uma carga.\n",
    "\n",
    "- Relacionamto **ENDEREÇO - CARGA: 1:N (Tem destino):**\\\n",
    "Este relacionamento é 1:N, pois um mesmo endereço pode ser destino de várias cargas diferentes, mas uma carga específica só possui um endereço de destino.\n",
    "Além disso, toda carga necessariamente tem um endereço como destino, mas nem todo endereço precisa ser o destino de uma carga.\n",
    "\n"
   ]
  },
  {
   "cell_type": "markdown",
   "id": "95a17cd7",
   "metadata": {},
   "source": [
    "## Parte 2: Esquema Relacional"
   ]
  },
  {
   "cell_type": "code",
   "execution_count": null,
   "id": "0bcbe24f",
   "metadata": {},
   "outputs": [],
   "source": [
    "from IPython.display import Image, display\n",
    "\n",
    "# URL da imagem\n",
    "url = \"https://i.postimg.cc/9MnMWH12/relacional-tp1-BDA-drawio.png\"\n",
    "\n",
    "# Exibir a imagem\n",
    "display(Image(url=url))"
   ]
  },
  {
   "cell_type": "markdown",
   "id": "90976fed",
   "metadata": {},
   "source": [
    "## Parte 3: Álgebra Relacional"
   ]
  },
  {
   "cell_type": "markdown",
   "id": "e3504acd",
   "metadata": {},
   "source": [
    "## Parte 4: SQL"
   ]
  },
  {
   "cell_type": "markdown",
   "id": "bdc8f48d",
   "metadata": {},
   "source": [
    "### 4.1. Criação do Banco"
   ]
  },
  {
   "cell_type": "code",
   "execution_count": null,
   "id": "1619e45c",
   "metadata": {},
   "outputs": [],
   "source": [
    "import sqlite3\n",
    "\n",
    "conn = sqlite3.connect(\"meubanco.db\")\n",
    "cursor = conn.cursor()\n",
    "\n",
    "# cria a tabela\n",
    "cursor.executescript(\"\"\"\n",
    "DROP TABLE IF EXISTS Endereco;\n",
    "DROP TABLE IF EXISTS Cliente;\n",
    "DROP TABLE IF EXISTS Produto;\n",
    "DROP TABLE IF EXISTS Pedido;\n",
    "DROP TABLE IF EXISTS Veiculo;\n",
    "DROP TABLE IF EXISTS Motorista;\n",
    "DROP TABLE IF EXISTS Rotas;\n",
    "DROP TABLE IF EXISTS Carga;\n",
    "DROP TABLE IF EXISTS Pedido_Produto;\n",
    "DROP TABLE IF EXISTS Carga_Produto;\n",
    "               \n",
    "CREATE TABLE Endereco (\n",
    "    id_endereco   INTEGER PRIMARY KEY,\n",
    "    nome_rua      TEXT,\n",
    "    num_rua       INTEGER,\n",
    "    complemento   TEXT,\n",
    "    cep           INTEGER,\n",
    "    bairro        TEXT\n",
    ");\n",
    "\n",
    "CREATE TABLE Cliente (\n",
    "    cpf_cliente   INTEGER PRIMARY KEY,\n",
    "    nome_cliente  TEXT,\n",
    "    id_endereco   INTEGER,\n",
    "    FOREIGN KEY (id_endereco) REFERENCES Endereco(id_endereco)\n",
    ");\n",
    "               \n",
    "CREATE TABLE Produto (\n",
    "    id_produto    INTEGER PRIMARY KEY,\n",
    "    nome_produto  TEXT,\n",
    "    preco_produto    INTEGER\n",
    ");\n",
    "               \n",
    "CREATE TABLE Pedido (\n",
    "    id_pedido     INTEGER PRIMARY KEY,\n",
    "    data_pedido   TEXT,\n",
    "    total_pedido  INTEGER,\n",
    "    entrega_prevista TEXT,\n",
    "    cpf_cliente INTEGER,\n",
    "    FOREIGN KEY (cpf_cliente) REFERENCES Cliente(cpf_cliente)\n",
    ");\n",
    "               \n",
    "CREATE TABLE Veiculo (\n",
    "    id_veiculo    INTEGER PRIMARY KEY,\n",
    "    nome_veiculo  TEXT,\n",
    "    tipo_veiculo  TEXT\n",
    ");\n",
    "\n",
    "CREATE TABLE Motorista (\n",
    "    cpf_motorista INTEGER PRIMARY KEY,\n",
    "    nome_motorista TEXT,\n",
    "    id_veiculo    INTEGER,\n",
    "    FOREIGN KEY (id_veiculo) REFERENCES Veiculo(id_veiculo)\n",
    ");\n",
    "\n",
    "CREATE TABLE Rotas (\n",
    "    cpf_motorista TEXT,\n",
    "    id_rota INTEGER,\n",
    "    nome_rota TEXT,\n",
    "    PRIMARY KEY (cpf_motorista, id_rota),   -- chave composta\n",
    "    FOREIGN KEY (cpf_motorista) \n",
    "        REFERENCES Motorista(cpf_motorista) \n",
    "        ON DELETE CASCADE\n",
    ");\n",
    "               \n",
    "CREATE TABLE Carga (\n",
    "    id_carga            INTEGER PRIMARY KEY,\n",
    "    id_endereco_origem  INTEGER,\n",
    "    id_endereco_destino INTEGER,\n",
    "    id_veiculo          INTEGER,\n",
    "    status_carga        TEXT,\n",
    "    data_entrega        TEXT,\n",
    "    FOREIGN KEY (id_endereco_origem)  REFERENCES Endereco(id_endereco),\n",
    "    FOREIGN KEY (id_endereco_destino) REFERENCES Endereco(id_endereco),\n",
    "    FOREIGN KEY (id_veiculo)          REFERENCES Veiculo(id_veiculo)\n",
    ");\n",
    "               \n",
    "CREATE TABLE Pedido_Produto (\n",
    "    id_pedido     INTEGER,\n",
    "    id_produto    INTEGER,\n",
    "    qtd_pedida    INTEGER,\n",
    "    total_produto INTEGER,\n",
    "    PRIMARY KEY (id_pedido, id_produto),\n",
    "    FOREIGN KEY (id_pedido)  REFERENCES Pedido(id_pedido),\n",
    "    FOREIGN KEY (id_produto) REFERENCES Produto(id_produto)\n",
    ");               \n",
    "\n",
    "CREATE TABLE Carga_Produto (\n",
    "    id_carga   INTEGER,\n",
    "    id_produto INTEGER,\n",
    "    tam_carga  INTEGER,\n",
    "    PRIMARY KEY (id_carga, id_produto),\n",
    "    FOREIGN KEY (id_carga)   REFERENCES Carga(id_carga),\n",
    "    FOREIGN KEY (id_produto) REFERENCES Produto(id_produto)\n",
    ");\n",
    "\"\"\")\n",
    "\n",
    "conn.commit()\n"
   ]
  },
  {
   "cell_type": "markdown",
   "id": "9d72d98e",
   "metadata": {},
   "source": [
    "### 4.2. Inserção de Dados"
   ]
  },
  {
   "cell_type": "code",
   "execution_count": null,
   "id": "47af1668",
   "metadata": {},
   "outputs": [],
   "source": [
    "cursor.executescript(\"\"\"                                    \n",
    "-- ENDERECO\n",
    "INSERT INTO Endereco (id_endereco, nome_rua, num_rua, complemento, cep, bairro) VALUES\n",
    "(1, 'Rua das Acácias', 101, 'Apto 201', 30130000, 'Funcionários'),\n",
    "(2, 'Av. Carandaí', 1115, '13º andar', 30130915, 'Funcionários'),\n",
    "(3, 'Rua da Bahia', 900, NULL, 30160011, 'Centro'),\n",
    "(4, 'Av. Amazonas', 3500, 'Sala 402', 30420000, 'Barro Preto'),\n",
    "(5, 'Rua Padre Eustáquio', 1200, NULL, 30720000, 'Padre Eustáquio'),\n",
    "(6, 'Av. Cristiano Machado', 12345, 'Bloco B', 31720000, 'Cidade Nova');\n",
    "\n",
    "-- CLIENTE\n",
    "INSERT INTO Cliente (cpf_cliente, nome_cliente, id_endereco) VALUES\n",
    "(1001, 'Alice Souza', 1),\n",
    "(1002, 'Bruno Lima', 2),\n",
    "(1003, 'Carla Mendes', 3),\n",
    "(1004, 'Diego Castro', 4),\n",
    "(1005, 'Eva Pereira', 5);\n",
    "\n",
    "-- PRODUTO\n",
    "INSERT INTO Produto (id_produto, nome_produto, preco_produto) VALUES\n",
    "(1, 'Notebook 14\"', 3500),\n",
    "(2, 'Mouse Óptico', 60),\n",
    "(3, 'Teclado Mecânico', 420),\n",
    "(4, 'Monitor 24\"', 900),\n",
    "(5, 'Headset USB', 150),\n",
    "(6, 'Cabo HDMI', 40);\n",
    "\n",
    "-- VEICULO\n",
    "INSERT INTO Veiculo (id_veiculo, nome_veiculo, tipo_veiculo) VALUES\n",
    "(1, 'Van 01', 'Van'),\n",
    "(2, 'Caminhão 3/4', 'Caminhao'),\n",
    "(3, 'Fiorino 07', 'Furgão'),\n",
    "(4, 'HR 2.5', 'Caminhonete'),\n",
    "(5, 'Sprinter 415', 'Van');\n",
    "\n",
    "-- MOTORISTA\n",
    "INSERT INTO Motorista (cpf_motorista, nome_motorista, id_veiculo) VALUES\n",
    "(2001, 'João Batista', 1),\n",
    "(2002, 'Marcos Paulo', 2),\n",
    "(2003, 'Nina Rocha', 3),\n",
    "(2004, 'Otávio Reis', 4),\n",
    "(2005, 'Paula Dias', 5);\n",
    "\n",
    "-- ROTAS - entidade fraca, depende do motorista\n",
    "INSERT INTO Rotas (cpf_motorista, id_rota, nome_rota) VALUES\n",
    "(2001, 1, 'Centro–Funcionários'),\n",
    "(2001, 2, 'Funcionários–Savassi'),\n",
    "(2002, 1, 'Barreiro–Centro'),\n",
    "(2003, 1, 'Pampulha–Centro'),\n",
    "(2004, 1, 'Cidade Nova–Centro'),\n",
    "(2005, 1, 'Padre Eustáquio–Barro Preto');\n",
    "\n",
    "-- PEDIDO\n",
    "INSERT INTO Pedido (id_pedido, data_pedido, total_pedido, entrega_prevista, cpf_cliente) VALUES\n",
    "(5001, '2025-08-15', 4460, '2025-09-01', 1001),\n",
    "(5002, '2025-08-16',  200, '2025-09-02', 1002),\n",
    "(5003, '2025-08-17',  940, '2025-09-03', 1003),\n",
    "(5004, '2025-08-18', 3650, '2025-09-04', 1004),\n",
    "(5005, '2025-08-19',  190, '2025-09-05', 1005);\n",
    "\n",
    "-- CARGA\n",
    "INSERT INTO Carga (id_carga, id_endereco_origem, id_endereco_destino, id_veiculo, status_carga, data_entrega) VALUES\n",
    "(6001, 2, 1, 1, 'entregue',   '2025-08-20'),\n",
    "(6002, 4, 3, 2, 'em_rota',    NULL),\n",
    "(6003, 6, 5, 3, 'pendente',   NULL),\n",
    "(6004, 1, 4, 4, 'entregue',   '2025-08-22'),\n",
    "(6005, 3, 2, 5, 'em_rota',    NULL);\n",
    "\n",
    "-- PEDIDO_PRODUTO – chaves compostas (id_pedido, id_produto)\n",
    "INSERT INTO Pedido_Produto (id_pedido, id_produto, qtd_pedida, total_produto) VALUES\n",
    "(5001, 1, 1, 3500),   -- Notebook\n",
    "(5001, 3, 1,  420),   -- Teclado\n",
    "(5001, 2, 9,   540),  -- Mouses para fechar 4460\n",
    "(5002, 5, 1,  150),   -- Headset\n",
    "(5002, 6, 1,   40),   -- HDMI\n",
    "(5003, 4, 1,  900),   -- Monitor\n",
    "(5003, 6, 1,   40),\n",
    "(5004, 1, 1, 3500),\n",
    "(5004, 2, 2,  120),\n",
    "(5005, 2, 1,   60),\n",
    "(5005, 5, 1,  130);\n",
    "\n",
    "-- CARGA_PRODUTO – vincula cargas aos produtos\n",
    "INSERT INTO Carga_Produto (id_carga, id_produto, tam_carga) VALUES\n",
    "(6001, 1, 1),  -- Notebook entregue\n",
    "(6001, 3, 1),  -- Teclado entregue\n",
    "(6002, 4, 2),  -- Em rota\n",
    "(6002, 6, 4),\n",
    "(6003, 5, 3),  -- Pendente\n",
    "(6004, 2, 5),  -- Entregue\n",
    "(6005, 2, 3),  -- Em rota\n",
    "(6005, 6, 2);\n",
    "\"\"\")"
   ]
  },
  {
   "cell_type": "code",
   "execution_count": null,
   "id": "c68d70ef",
   "metadata": {},
   "outputs": [],
   "source": [
    "for t in tabelas:\n",
    "    print(f\"\\n=== {t} (até 5 linhas) ===\")\n",
    "    for row in cursor.execute(f\"SELECT * FROM {t} LIMIT 5\"):\n",
    "        print(row)"
   ]
  },
  {
   "cell_type": "markdown",
   "id": "dd9feef0",
   "metadata": {},
   "source": [
    "### 4.3. Consultas"
   ]
  },
  {
   "cell_type": "code",
   "execution_count": null,
   "id": "b348c26c",
   "metadata": {},
   "outputs": [],
   "source": [
    "import pandas as pd"
   ]
  },
  {
   "cell_type": "markdown",
   "id": "82a85003",
   "metadata": {},
   "source": [
    "#### 4.3.1. Listar todos os clientes com cargas em rota de entrega"
   ]
  },
  {
   "cell_type": "code",
   "execution_count": null,
   "id": "165b79b4",
   "metadata": {},
   "outputs": [],
   "source": [
    "query = \"\"\"\n",
    "SELECT DISTINCT\n",
    "  c.cpf_cliente,\n",
    "  c.nome_cliente\n",
    "FROM Cliente c\n",
    "JOIN Carga cg\n",
    "  ON cg.id_endereco_destino = c.id_endereco\n",
    "WHERE cg.status_carga = 'em_rota'\n",
    "ORDER BY c.nome_cliente;\n",
    "\"\"\"\n",
    "\n",
    "df = pd.read_sql_query(query, conn)\n",
    "df"
   ]
  },
  {
   "cell_type": "markdown",
   "id": "f43d376f",
   "metadata": {},
   "source": [
    "#### 4.3.2. Recuperar o nome dos produtos que nunca foram entregues"
   ]
  },
  {
   "cell_type": "code",
   "execution_count": null,
   "id": "8cc23d05",
   "metadata": {},
   "outputs": [],
   "source": [
    "query = \"\"\"\n",
    "SELECT p.nome_produto\n",
    "FROM Produto p\n",
    "EXCEPT\n",
    "SELECT p.nome_produto\n",
    "FROM Produto p\n",
    "JOIN Carga_Produto cp ON p.id_produto = cp.id_produto\n",
    "JOIN Carga c          ON cp.id_carga  = c.id_carga\n",
    "WHERE c.status_carga = 'entregue';  -- ou: c.data_entrega IS NOT NULL\n",
    "\"\"\"\n",
    "\n",
    "df = pd.read_sql_query(query, conn)\n",
    "df"
   ]
  },
  {
   "cell_type": "markdown",
   "id": "4c897579",
   "metadata": {},
   "source": [
    "#### 4.3.3.  Obter a descrição das cargas transportadas por um mesmo motorista"
   ]
  },
  {
   "cell_type": "code",
   "execution_count": null,
   "id": "90ae6c30",
   "metadata": {},
   "outputs": [],
   "source": [
    "query = \"\"\"\n",
    "SELECT\n",
    "  m.cpf_motorista,\n",
    "  m.nome_motorista,\n",
    "  c.id_carga,\n",
    "  c.status_carga,\n",
    "  c.data_entrega,\n",
    "  c.id_endereco_origem  AS id_end_origem,\n",
    "  c.id_endereco_destino AS id_end_destino\n",
    "FROM Motorista m\n",
    "JOIN Veiculo  v ON v.id_veiculo = m.id_veiculo\n",
    "JOIN Carga    c ON c.id_veiculo = v.id_veiculo\n",
    "ORDER BY m.nome_motorista, c.id_carga;\n",
    "\"\"\"\n",
    "\n",
    "df = pd.read_sql_query(query, conn)\n",
    "df"
   ]
  },
  {
   "cell_type": "markdown",
   "id": "6cd03b8e",
   "metadata": {},
   "source": []
  },
  {
   "cell_type": "code",
   "execution_count": null,
   "id": "2b9f7e36",
   "metadata": {},
   "outputs": [],
   "source": [
    "conn.close()"
   ]
  }
 ],
 "metadata": {
  "kernelspec": {
   "display_name": "base",
   "language": "python",
   "name": "python3"
  },
  "language_info": {
   "codemirror_mode": {
    "name": "ipython",
    "version": 3
   },
   "file_extension": ".py",
   "mimetype": "text/x-python",
   "name": "python",
   "nbconvert_exporter": "python",
   "pygments_lexer": "ipython3",
   "version": "3.12.3"
  }
 },
 "nbformat": 4,
 "nbformat_minor": 5
}
